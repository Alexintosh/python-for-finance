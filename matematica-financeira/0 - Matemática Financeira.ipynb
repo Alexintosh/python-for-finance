{
 "cells": [
  {
   "cell_type": "markdown",
   "metadata": {},
   "source": [
    "# Matemática Financeira"
   ]
  },
  {
   "cell_type": "markdown",
   "metadata": {},
   "source": [
    "## Referências e mais informações:"
   ]
  },
  {
   "cell_type": "markdown",
   "metadata": {},
   "source": [
    "- [Wikibooks - Matemática Financeira](https://pt.wikibooks.org/wiki/Matem%C3%A1tica_financeira)\n",
    "- [Matemática Financeira para Iniciantes e Leigos](http://www.clubedospoupadores.com/investimentos/matematica-financeira-para-iniciantes-e-leigos.html)\n",
    "- Matemática Financeira - Ricardo José Andrade Leite Viana"
   ]
  },
  {
   "cell_type": "code",
   "execution_count": null,
   "metadata": {
    "collapsed": true
   },
   "outputs": [],
   "source": []
  }
 ],
 "metadata": {
  "kernelspec": {
   "display_name": "python-for-finance",
   "language": "python",
   "name": "python-for-finance"
  },
  "language_info": {
   "codemirror_mode": {
    "name": "ipython",
    "version": 3
   },
   "file_extension": ".py",
   "mimetype": "text/x-python",
   "name": "python",
   "nbconvert_exporter": "python",
   "pygments_lexer": "ipython3",
   "version": "3.6.0"
  }
 },
 "nbformat": 4,
 "nbformat_minor": 2
}
