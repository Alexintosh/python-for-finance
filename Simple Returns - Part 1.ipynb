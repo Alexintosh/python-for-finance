{
 "cells": [
  {
   "cell_type": "code",
   "execution_count": 4,
   "metadata": {
    "collapsed": true
   },
   "outputs": [],
   "source": [
    "import numpy as np\n",
    "import pandas as pd\n",
    "import pandas_datareader.data as wb\n",
    "import matplotlib.pyplot as plt"
   ]
  },
  {
   "cell_type": "code",
   "execution_count": 5,
   "metadata": {
    "collapsed": true
   },
   "outputs": [],
   "source": [
    "BRK = wb.DataReader('BRK-A', data_source='yahoo', start='1995-1-1')"
   ]
  },
  {
   "cell_type": "code",
   "execution_count": 6,
   "metadata": {},
   "outputs": [
    {
     "data": {
      "text/html": [
       "<div>\n",
       "<table border=\"1\" class=\"dataframe\">\n",
       "  <thead>\n",
       "    <tr style=\"text-align: right;\">\n",
       "      <th></th>\n",
       "      <th>Open</th>\n",
       "      <th>High</th>\n",
       "      <th>Low</th>\n",
       "      <th>Close</th>\n",
       "      <th>Volume</th>\n",
       "      <th>Adj Close</th>\n",
       "    </tr>\n",
       "    <tr>\n",
       "      <th>Date</th>\n",
       "      <th></th>\n",
       "      <th></th>\n",
       "      <th></th>\n",
       "      <th></th>\n",
       "      <th></th>\n",
       "      <th></th>\n",
       "    </tr>\n",
       "  </thead>\n",
       "  <tbody>\n",
       "    <tr>\n",
       "      <th>1995-01-03</th>\n",
       "      <td>20500.0</td>\n",
       "      <td>20550.0</td>\n",
       "      <td>20250.0</td>\n",
       "      <td>20400.0</td>\n",
       "      <td>27000</td>\n",
       "      <td>20400.0</td>\n",
       "    </tr>\n",
       "    <tr>\n",
       "      <th>1995-01-04</th>\n",
       "      <td>20400.0</td>\n",
       "      <td>20550.0</td>\n",
       "      <td>20350.0</td>\n",
       "      <td>20550.0</td>\n",
       "      <td>13000</td>\n",
       "      <td>20550.0</td>\n",
       "    </tr>\n",
       "    <tr>\n",
       "      <th>1995-01-05</th>\n",
       "      <td>20500.0</td>\n",
       "      <td>20500.0</td>\n",
       "      <td>20500.0</td>\n",
       "      <td>20500.0</td>\n",
       "      <td>14000</td>\n",
       "      <td>20500.0</td>\n",
       "    </tr>\n",
       "    <tr>\n",
       "      <th>1995-01-06</th>\n",
       "      <td>20550.0</td>\n",
       "      <td>20600.0</td>\n",
       "      <td>20550.0</td>\n",
       "      <td>20600.0</td>\n",
       "      <td>4000</td>\n",
       "      <td>20600.0</td>\n",
       "    </tr>\n",
       "    <tr>\n",
       "      <th>1995-01-09</th>\n",
       "      <td>20700.0</td>\n",
       "      <td>21200.0</td>\n",
       "      <td>20700.0</td>\n",
       "      <td>21200.0</td>\n",
       "      <td>21000</td>\n",
       "      <td>21200.0</td>\n",
       "    </tr>\n",
       "  </tbody>\n",
       "</table>\n",
       "</div>"
      ],
      "text/plain": [
       "               Open     High      Low    Close  Volume  Adj Close\n",
       "Date                                                             \n",
       "1995-01-03  20500.0  20550.0  20250.0  20400.0   27000    20400.0\n",
       "1995-01-04  20400.0  20550.0  20350.0  20550.0   13000    20550.0\n",
       "1995-01-05  20500.0  20500.0  20500.0  20500.0   14000    20500.0\n",
       "1995-01-06  20550.0  20600.0  20550.0  20600.0    4000    20600.0\n",
       "1995-01-09  20700.0  21200.0  20700.0  21200.0   21000    21200.0"
      ]
     },
     "execution_count": 6,
     "metadata": {},
     "output_type": "execute_result"
    }
   ],
   "source": [
    "BRK.head()"
   ]
  },
  {
   "cell_type": "code",
   "execution_count": 7,
   "metadata": {},
   "outputs": [
    {
     "data": {
      "text/html": [
       "<div>\n",
       "<table border=\"1\" class=\"dataframe\">\n",
       "  <thead>\n",
       "    <tr style=\"text-align: right;\">\n",
       "      <th></th>\n",
       "      <th>Open</th>\n",
       "      <th>High</th>\n",
       "      <th>Low</th>\n",
       "      <th>Close</th>\n",
       "      <th>Volume</th>\n",
       "      <th>Adj Close</th>\n",
       "    </tr>\n",
       "    <tr>\n",
       "      <th>Date</th>\n",
       "      <th></th>\n",
       "      <th></th>\n",
       "      <th></th>\n",
       "      <th></th>\n",
       "      <th></th>\n",
       "      <th></th>\n",
       "    </tr>\n",
       "  </thead>\n",
       "  <tbody>\n",
       "    <tr>\n",
       "      <th>2017-05-05</th>\n",
       "      <td>250530.0</td>\n",
       "      <td>250530.0</td>\n",
       "      <td>249100.0</td>\n",
       "      <td>250000.0</td>\n",
       "      <td>400</td>\n",
       "      <td>250000.0</td>\n",
       "    </tr>\n",
       "    <tr>\n",
       "      <th>2017-05-08</th>\n",
       "      <td>250000.0</td>\n",
       "      <td>250000.0</td>\n",
       "      <td>246401.0</td>\n",
       "      <td>247160.0</td>\n",
       "      <td>300</td>\n",
       "      <td>247160.0</td>\n",
       "    </tr>\n",
       "    <tr>\n",
       "      <th>2017-05-09</th>\n",
       "      <td>247750.0</td>\n",
       "      <td>247940.0</td>\n",
       "      <td>245000.0</td>\n",
       "      <td>246000.0</td>\n",
       "      <td>400</td>\n",
       "      <td>246000.0</td>\n",
       "    </tr>\n",
       "    <tr>\n",
       "      <th>2017-05-10</th>\n",
       "      <td>245800.0</td>\n",
       "      <td>245850.0</td>\n",
       "      <td>245100.0</td>\n",
       "      <td>245850.0</td>\n",
       "      <td>400</td>\n",
       "      <td>245850.0</td>\n",
       "    </tr>\n",
       "    <tr>\n",
       "      <th>2017-05-11</th>\n",
       "      <td>245770.0</td>\n",
       "      <td>245770.0</td>\n",
       "      <td>243770.0</td>\n",
       "      <td>245240.0</td>\n",
       "      <td>200</td>\n",
       "      <td>245240.0</td>\n",
       "    </tr>\n",
       "  </tbody>\n",
       "</table>\n",
       "</div>"
      ],
      "text/plain": [
       "                Open      High       Low     Close  Volume  Adj Close\n",
       "Date                                                                 \n",
       "2017-05-05  250530.0  250530.0  249100.0  250000.0     400   250000.0\n",
       "2017-05-08  250000.0  250000.0  246401.0  247160.0     300   247160.0\n",
       "2017-05-09  247750.0  247940.0  245000.0  246000.0     400   246000.0\n",
       "2017-05-10  245800.0  245850.0  245100.0  245850.0     400   245850.0\n",
       "2017-05-11  245770.0  245770.0  243770.0  245240.0     200   245240.0"
      ]
     },
     "execution_count": 7,
     "metadata": {},
     "output_type": "execute_result"
    }
   ],
   "source": [
    "BRK.tail()"
   ]
  },
  {
   "cell_type": "markdown",
   "metadata": {},
   "source": [
    "# Simple Rate of Return"
   ]
  },
  {
   "cell_type": "markdown",
   "metadata": {
    "collapsed": true
   },
   "source": [
    "$$\n",
    "\\frac{P_1 - P_0}{P_0} = \\frac{P_1}{P_0} - 1\n",
    "$$"
   ]
  },
  {
   "cell_type": "markdown",
   "metadata": {},
   "source": [
    "*Adj Close* is \"Adjusted close price\", adjusted by dividends and other events at the close of the market at that date."
   ]
  },
  {
   "cell_type": "code",
   "execution_count": 10,
   "metadata": {},
   "outputs": [
    {
     "name": "stdout",
     "output_type": "stream",
     "text": [
      "Date\n",
      "1995-01-03         NaN\n",
      "1995-01-04    0.007353\n",
      "1995-01-05   -0.002433\n",
      "1995-01-06    0.004878\n",
      "1995-01-09    0.029126\n",
      "1995-01-10    0.023585\n",
      "1995-01-11   -0.004608\n",
      "1995-01-12    0.020833\n",
      "1995-01-13    0.011338\n",
      "1995-01-16    0.049327\n",
      "1995-01-17    0.014957\n",
      "1995-01-18   -0.025263\n",
      "1995-01-19    0.008639\n",
      "1995-01-20    0.000000\n",
      "1995-01-23   -0.012848\n",
      "1995-01-24    0.000000\n",
      "1995-01-25    0.017354\n",
      "1995-01-26    0.004264\n",
      "1995-01-27    0.006369\n",
      "1995-01-30    0.008439\n",
      "1995-01-31    0.029289\n",
      "1995-02-01    0.010163\n",
      "1995-02-02   -0.015895\n",
      "1995-02-03   -0.006338\n",
      "1995-02-06    0.006173\n",
      "1995-02-07    0.006135\n",
      "1995-02-08    0.009146\n",
      "1995-02-09   -0.011078\n",
      "1995-02-10   -0.030550\n",
      "1995-02-13   -0.054622\n",
      "                ...   \n",
      "2017-03-30    0.008164\n",
      "2017-03-31   -0.007744\n",
      "2017-04-03    0.003002\n",
      "2017-04-04   -0.000200\n",
      "2017-04-05   -0.006586\n",
      "2017-04-06    0.005585\n",
      "2017-04-07   -0.003296\n",
      "2017-04-10    0.003744\n",
      "2017-04-11   -0.007181\n",
      "2017-04-12   -0.002699\n",
      "2017-04-13   -0.011818\n",
      "2017-04-17    0.006939\n",
      "2017-04-18   -0.003851\n",
      "2017-04-19   -0.006930\n",
      "2017-04-20    0.012920\n",
      "2017-04-21   -0.006675\n",
      "2017-04-24    0.013439\n",
      "2017-04-25    0.009568\n",
      "2017-04-26    0.000478\n",
      "2017-04-27   -0.005574\n",
      "2017-04-28   -0.008682\n",
      "2017-05-01    0.001978\n",
      "2017-05-02    0.002981\n",
      "2017-05-03    0.003976\n",
      "2017-05-04   -0.001840\n",
      "2017-05-05    0.001843\n",
      "2017-05-08   -0.011360\n",
      "2017-05-09   -0.004693\n",
      "2017-05-10   -0.000610\n",
      "2017-05-11   -0.002481\n",
      "Name: simple_return, dtype: float64\n"
     ]
    }
   ],
   "source": [
    "BRK['simple_return'] = (BRK['Adj Close'] / BRK['Adj Close'].shift(1)) - 1\n",
    "print(BRK['simple_return'])"
   ]
  },
  {
   "cell_type": "code",
   "execution_count": 11,
   "metadata": {},
   "outputs": [
    {
     "data": {
      "image/png": "[encoded data removed]",
      "text/plain": [
       "<matplotlib.figure.Figure at 0x7fcc78652f60>"
      ]
     },
     "metadata": {},
     "output_type": "display_data"
    }
   ],
   "source": [
    "BRK['simple_return'].plot(figsize=(8,5))\n",
    "plt.show()"
   ]
  },
  {
   "cell_type": "code",
   "execution_count": 12,
   "metadata": {},
   "outputs": [
    {
     "data": {
      "text/plain": [
       "0.00054959836826352199"
      ]
     },
     "execution_count": 12,
     "metadata": {},
     "output_type": "execute_result"
    }
   ],
   "source": [
    "avg_returns_d = BRK['simple_return'].mean()\n",
    "avg_returns_d"
   ]
  },
  {
   "cell_type": "code",
   "execution_count": 13,
   "metadata": {},
   "outputs": [
    {
     "name": "stdout",
     "output_type": "stream",
     "text": [
      "13.74 %\n"
     ]
    }
   ],
   "source": [
    "avg_returns_a = avg_returns_d * 250 # multiply by the average number of business days per year\n",
    "print(str(round(avg_returns_a, 5) * 100) + ' %')"
   ]
  },
  {
   "cell_type": "markdown",
   "metadata": {
    "collapsed": true
   },
   "source": [
    "# Logarithmic Return"
   ]
  },
  {
   "cell_type": "markdown",
   "metadata": {},
   "source": [
    "$$\n",
    "ln(\\frac{P_t}{P_{t-1}})\n",
    "$$"
   ]
  },
  {
   "cell_type": "code",
   "execution_count": 14,
   "metadata": {},
   "outputs": [
    {
     "data": {
      "text/html": [
       "<div>\n",
       "<table border=\"1\" class=\"dataframe\">\n",
       "  <thead>\n",
       "    <tr style=\"text-align: right;\">\n",
       "      <th></th>\n",
       "      <th>Open</th>\n",
       "      <th>High</th>\n",
       "      <th>Low</th>\n",
       "      <th>Close</th>\n",
       "      <th>Volume</th>\n",
       "      <th>Adj Close</th>\n",
       "      <th>simple_return</th>\n",
       "    </tr>\n",
       "    <tr>\n",
       "      <th>Date</th>\n",
       "      <th></th>\n",
       "      <th></th>\n",
       "      <th></th>\n",
       "      <th></th>\n",
       "      <th></th>\n",
       "      <th></th>\n",
       "      <th></th>\n",
       "    </tr>\n",
       "  </thead>\n",
       "  <tbody>\n",
       "    <tr>\n",
       "      <th>1995-01-03</th>\n",
       "      <td>20500.0</td>\n",
       "      <td>20550.0</td>\n",
       "      <td>20250.0</td>\n",
       "      <td>20400.0</td>\n",
       "      <td>27000</td>\n",
       "      <td>20400.0</td>\n",
       "      <td>NaN</td>\n",
       "    </tr>\n",
       "    <tr>\n",
       "      <th>1995-01-04</th>\n",
       "      <td>20400.0</td>\n",
       "      <td>20550.0</td>\n",
       "      <td>20350.0</td>\n",
       "      <td>20550.0</td>\n",
       "      <td>13000</td>\n",
       "      <td>20550.0</td>\n",
       "      <td>0.007353</td>\n",
       "    </tr>\n",
       "    <tr>\n",
       "      <th>1995-01-05</th>\n",
       "      <td>20500.0</td>\n",
       "      <td>20500.0</td>\n",
       "      <td>20500.0</td>\n",
       "      <td>20500.0</td>\n",
       "      <td>14000</td>\n",
       "      <td>20500.0</td>\n",
       "      <td>-0.002433</td>\n",
       "    </tr>\n",
       "    <tr>\n",
       "      <th>1995-01-06</th>\n",
       "      <td>20550.0</td>\n",
       "      <td>20600.0</td>\n",
       "      <td>20550.0</td>\n",
       "      <td>20600.0</td>\n",
       "      <td>4000</td>\n",
       "      <td>20600.0</td>\n",
       "      <td>0.004878</td>\n",
       "    </tr>\n",
       "    <tr>\n",
       "      <th>1995-01-09</th>\n",
       "      <td>20700.0</td>\n",
       "      <td>21200.0</td>\n",
       "      <td>20700.0</td>\n",
       "      <td>21200.0</td>\n",
       "      <td>21000</td>\n",
       "      <td>21200.0</td>\n",
       "      <td>0.029126</td>\n",
       "    </tr>\n",
       "  </tbody>\n",
       "</table>\n",
       "</div>"
      ],
      "text/plain": [
       "               Open     High      Low    Close  Volume  Adj Close  \\\n",
       "Date                                                                \n",
       "1995-01-03  20500.0  20550.0  20250.0  20400.0   27000    20400.0   \n",
       "1995-01-04  20400.0  20550.0  20350.0  20550.0   13000    20550.0   \n",
       "1995-01-05  20500.0  20500.0  20500.0  20500.0   14000    20500.0   \n",
       "1995-01-06  20550.0  20600.0  20550.0  20600.0    4000    20600.0   \n",
       "1995-01-09  20700.0  21200.0  20700.0  21200.0   21000    21200.0   \n",
       "\n",
       "            simple_return  \n",
       "Date                       \n",
       "1995-01-03            NaN  \n",
       "1995-01-04       0.007353  \n",
       "1995-01-05      -0.002433  \n",
       "1995-01-06       0.004878  \n",
       "1995-01-09       0.029126  "
      ]
     },
     "execution_count": 14,
     "metadata": {},
     "output_type": "execute_result"
    }
   ],
   "source": [
    "BRK.head()"
   ]
  },
  {
   "cell_type": "code",
   "execution_count": 16,
   "metadata": {},
   "outputs": [
    {
     "name": "stdout",
     "output_type": "stream",
     "text": [
      "Date\n",
      "1995-01-03         NaN\n",
      "1995-01-04    0.007326\n",
      "1995-01-05   -0.002436\n",
      "1995-01-06    0.004866\n",
      "1995-01-09    0.028710\n",
      "1995-01-10    0.023311\n",
      "1995-01-11   -0.004619\n",
      "1995-01-12    0.020619\n",
      "1995-01-13    0.011274\n",
      "1995-01-16    0.048149\n",
      "1995-01-17    0.014847\n",
      "1995-01-18   -0.025588\n",
      "1995-01-19    0.008602\n",
      "1995-01-20    0.000000\n",
      "1995-01-23   -0.012931\n",
      "1995-01-24    0.000000\n",
      "1995-01-25    0.017205\n",
      "1995-01-26    0.004255\n",
      "1995-01-27    0.006349\n",
      "1995-01-30    0.008403\n",
      "1995-01-31    0.028868\n",
      "1995-02-01    0.010111\n",
      "1995-02-02   -0.016023\n",
      "1995-02-03   -0.006358\n",
      "1995-02-06    0.006154\n",
      "1995-02-07    0.006116\n",
      "1995-02-08    0.009105\n",
      "1995-02-09   -0.011139\n",
      "1995-02-10   -0.031026\n",
      "1995-02-13   -0.056170\n",
      "                ...   \n",
      "2017-03-30    0.008131\n",
      "2017-03-31   -0.007774\n",
      "2017-04-03    0.002997\n",
      "2017-04-04   -0.000200\n",
      "2017-04-05   -0.006607\n",
      "2017-04-06    0.005569\n",
      "2017-04-07   -0.003302\n",
      "2017-04-10    0.003737\n",
      "2017-04-11   -0.007206\n",
      "2017-04-12   -0.002703\n",
      "2017-04-13   -0.011888\n",
      "2017-04-17    0.006915\n",
      "2017-04-18   -0.003858\n",
      "2017-04-19   -0.006954\n",
      "2017-04-20    0.012837\n",
      "2017-04-21   -0.006697\n",
      "2017-04-24    0.013350\n",
      "2017-04-25    0.009523\n",
      "2017-04-26    0.000478\n",
      "2017-04-27   -0.005589\n",
      "2017-04-28   -0.008720\n",
      "2017-05-01    0.001976\n",
      "2017-05-02    0.002976\n",
      "2017-05-03    0.003968\n",
      "2017-05-04   -0.001842\n",
      "2017-05-05    0.001842\n",
      "2017-05-08   -0.011425\n",
      "2017-05-09   -0.004704\n",
      "2017-05-10   -0.000610\n",
      "2017-05-11   -0.002484\n",
      "Name: log_return, dtype: float64\n"
     ]
    }
   ],
   "source": [
    "BRK['log_return'] = np.log(BRK['Adj Close'] / BRK['Adj Close'].shift(1))\n",
    "print(BRK['log_return'])"
   ]
  },
  {
   "cell_type": "code",
   "execution_count": 17,
   "metadata": {},
   "outputs": [
    {
     "data": {
      "image/png": "[encoded data removed]",
      "text/plain": [
       "<matplotlib.figure.Figure at 0x7fcc777645c0>"
      ]
     },
     "metadata": {},
     "output_type": "display_data"
    }
   ],
   "source": [
    "BRK['log_return'].plot(figsize=(8, 5))\n",
    "plt.show()"
   ]
  },
  {
   "cell_type": "code",
   "execution_count": 18,
   "metadata": {},
   "outputs": [
    {
     "data": {
      "text/plain": [
       "0.00044176628567140045"
      ]
     },
     "execution_count": 18,
     "metadata": {},
     "output_type": "execute_result"
    }
   ],
   "source": [
    "log_return_d = BRK['log_return'].mean()\n",
    "log_return_d"
   ]
  },
  {
   "cell_type": "code",
   "execution_count": 19,
   "metadata": {},
   "outputs": [
    {
     "data": {
      "text/plain": [
       "0.11044157141785012"
      ]
     },
     "execution_count": 19,
     "metadata": {},
     "output_type": "execute_result"
    }
   ],
   "source": [
    "log_return_a = BRK['log_return'].mean() * 250\n",
    "log_return_a"
   ]
  },
  {
   "cell_type": "code",
   "execution_count": 21,
   "metadata": {},
   "outputs": [
    {
     "name": "stdout",
     "output_type": "stream",
     "text": [
      "11.044 %\n"
     ]
    }
   ],
   "source": [
    "print(str(round(log_return_a, 5) * 100) + ' %')"
   ]
  },
  {
   "cell_type": "code",
   "execution_count": null,
   "metadata": {
    "collapsed": true
   },
   "outputs": [],
   "source": []
  }
 ],
 "metadata": {
  "kernelspec": {
   "display_name": "python-for-finance",
   "language": "python",
   "name": "python-for-finance"
  },
  "language_info": {
   "codemirror_mode": {
    "name": "ipython",
    "version": 3
   },
   "file_extension": ".py",
   "mimetype": "text/x-python",
   "name": "python",
   "nbconvert_exporter": "python",
   "pygments_lexer": "ipython3",
   "version": "3.6.0"
  }
 },
 "nbformat": 4,
 "nbformat_minor": 2
}
