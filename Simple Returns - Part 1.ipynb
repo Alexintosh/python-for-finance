{
 "cells": [
  {
   "cell_type": "code",
   "execution_count": 1,
   "metadata": {
    "collapsed": false
   },
   "outputs": [],
   "source": [
    "import numpy as np\n",
    "import pandas as pd\n",
    "import pandas_datareader.data as wb\n",
    "import matplotlib.pyplot as plt"
   ]
  },
  {
   "cell_type": "code",
   "execution_count": 20,
   "metadata": {
    "collapsed": false
   },
   "outputs": [],
   "source": [
    "BRK = wb.DataReader('BRK-A', data_source='yahoo', start='1980-1-1')"
   ]
  },
  {
   "cell_type": "code",
   "execution_count": 21,
   "metadata": {
    "collapsed": false
   },
   "outputs": [
    {
     "data": {
      "text/html": [
       "<div>\n",
       "<table border=\"1\" class=\"dataframe\">\n",
       "  <thead>\n",
       "    <tr style=\"text-align: right;\">\n",
       "      <th></th>\n",
       "      <th>Open</th>\n",
       "      <th>High</th>\n",
       "      <th>Low</th>\n",
       "      <th>Close</th>\n",
       "      <th>Volume</th>\n",
       "      <th>Adj Close</th>\n",
       "    </tr>\n",
       "    <tr>\n",
       "      <th>Date</th>\n",
       "      <th></th>\n",
       "      <th></th>\n",
       "      <th></th>\n",
       "      <th></th>\n",
       "      <th></th>\n",
       "      <th></th>\n",
       "    </tr>\n",
       "  </thead>\n",
       "  <tbody>\n",
       "    <tr>\n",
       "      <th>1980-03-17</th>\n",
       "      <td>290.0</td>\n",
       "      <td>310.0</td>\n",
       "      <td>290.0</td>\n",
       "      <td>290.0</td>\n",
       "      <td>10000</td>\n",
       "      <td>290.0</td>\n",
       "    </tr>\n",
       "    <tr>\n",
       "      <th>1980-03-18</th>\n",
       "      <td>290.0</td>\n",
       "      <td>290.0</td>\n",
       "      <td>290.0</td>\n",
       "      <td>290.0</td>\n",
       "      <td>0</td>\n",
       "      <td>290.0</td>\n",
       "    </tr>\n",
       "    <tr>\n",
       "      <th>1980-03-19</th>\n",
       "      <td>290.0</td>\n",
       "      <td>310.0</td>\n",
       "      <td>290.0</td>\n",
       "      <td>290.0</td>\n",
       "      <td>20000</td>\n",
       "      <td>290.0</td>\n",
       "    </tr>\n",
       "    <tr>\n",
       "      <th>1980-03-20</th>\n",
       "      <td>290.0</td>\n",
       "      <td>290.0</td>\n",
       "      <td>290.0</td>\n",
       "      <td>290.0</td>\n",
       "      <td>0</td>\n",
       "      <td>290.0</td>\n",
       "    </tr>\n",
       "    <tr>\n",
       "      <th>1980-03-21</th>\n",
       "      <td>290.0</td>\n",
       "      <td>290.0</td>\n",
       "      <td>290.0</td>\n",
       "      <td>290.0</td>\n",
       "      <td>0</td>\n",
       "      <td>290.0</td>\n",
       "    </tr>\n",
       "  </tbody>\n",
       "</table>\n",
       "</div>"
      ],
      "text/plain": [
       "             Open   High    Low  Close  Volume  Adj Close\n",
       "Date                                                     \n",
       "1980-03-17  290.0  310.0  290.0  290.0   10000      290.0\n",
       "1980-03-18  290.0  290.0  290.0  290.0       0      290.0\n",
       "1980-03-19  290.0  310.0  290.0  290.0   20000      290.0\n",
       "1980-03-20  290.0  290.0  290.0  290.0       0      290.0\n",
       "1980-03-21  290.0  290.0  290.0  290.0       0      290.0"
      ]
     },
     "execution_count": 21,
     "metadata": {},
     "output_type": "execute_result"
    }
   ],
   "source": [
    "BRK.head()"
   ]
  },
  {
   "cell_type": "code",
   "execution_count": 22,
   "metadata": {
    "collapsed": false
   },
   "outputs": [
    {
     "data": {
      "text/html": [
       "<div>\n",
       "<table border=\"1\" class=\"dataframe\">\n",
       "  <thead>\n",
       "    <tr style=\"text-align: right;\">\n",
       "      <th></th>\n",
       "      <th>Open</th>\n",
       "      <th>High</th>\n",
       "      <th>Low</th>\n",
       "      <th>Close</th>\n",
       "      <th>Volume</th>\n",
       "      <th>Adj Close</th>\n",
       "    </tr>\n",
       "    <tr>\n",
       "      <th>Date</th>\n",
       "      <th></th>\n",
       "      <th></th>\n",
       "      <th></th>\n",
       "      <th></th>\n",
       "      <th></th>\n",
       "      <th></th>\n",
       "    </tr>\n",
       "  </thead>\n",
       "  <tbody>\n",
       "    <tr>\n",
       "      <th>2017-05-05</th>\n",
       "      <td>250530.0</td>\n",
       "      <td>250530.0</td>\n",
       "      <td>249100.0</td>\n",
       "      <td>250000.0</td>\n",
       "      <td>400</td>\n",
       "      <td>250000.0</td>\n",
       "    </tr>\n",
       "    <tr>\n",
       "      <th>2017-05-08</th>\n",
       "      <td>250000.0</td>\n",
       "      <td>250000.0</td>\n",
       "      <td>246401.0</td>\n",
       "      <td>247160.0</td>\n",
       "      <td>300</td>\n",
       "      <td>247160.0</td>\n",
       "    </tr>\n",
       "    <tr>\n",
       "      <th>2017-05-09</th>\n",
       "      <td>247750.0</td>\n",
       "      <td>247940.0</td>\n",
       "      <td>245000.0</td>\n",
       "      <td>246000.0</td>\n",
       "      <td>400</td>\n",
       "      <td>246000.0</td>\n",
       "    </tr>\n",
       "    <tr>\n",
       "      <th>2017-05-10</th>\n",
       "      <td>245800.0</td>\n",
       "      <td>245850.0</td>\n",
       "      <td>245100.0</td>\n",
       "      <td>245850.0</td>\n",
       "      <td>400</td>\n",
       "      <td>245850.0</td>\n",
       "    </tr>\n",
       "    <tr>\n",
       "      <th>2017-05-11</th>\n",
       "      <td>245770.0</td>\n",
       "      <td>245770.0</td>\n",
       "      <td>243770.0</td>\n",
       "      <td>245240.0</td>\n",
       "      <td>200</td>\n",
       "      <td>245240.0</td>\n",
       "    </tr>\n",
       "  </tbody>\n",
       "</table>\n",
       "</div>"
      ],
      "text/plain": [
       "                Open      High       Low     Close  Volume  Adj Close\n",
       "Date                                                                 \n",
       "2017-05-05  250530.0  250530.0  249100.0  250000.0     400   250000.0\n",
       "2017-05-08  250000.0  250000.0  246401.0  247160.0     300   247160.0\n",
       "2017-05-09  247750.0  247940.0  245000.0  246000.0     400   246000.0\n",
       "2017-05-10  245800.0  245850.0  245100.0  245850.0     400   245850.0\n",
       "2017-05-11  245770.0  245770.0  243770.0  245240.0     200   245240.0"
      ]
     },
     "execution_count": 22,
     "metadata": {},
     "output_type": "execute_result"
    }
   ],
   "source": [
    "BRK.tail()"
   ]
  },
  {
   "cell_type": "markdown",
   "metadata": {},
   "source": [
    "# Simple Rate of Return"
   ]
  },
  {
   "cell_type": "markdown",
   "metadata": {
    "collapsed": true
   },
   "source": [
    "$$\n",
    "\\frac{P_1 - P_0}{P_0} = \\frac{P_1}{P_0} - 1\n",
    "$$"
   ]
  },
  {
   "cell_type": "code",
   "execution_count": 23,
   "metadata": {
    "collapsed": false
   },
   "outputs": [
    {
     "name": "stdout",
     "output_type": "stream",
     "text": [
      "Date\n",
      "1980-03-17         NaN\n",
      "1980-03-18         NaN\n",
      "1980-03-19         NaN\n",
      "1980-03-20         NaN\n",
      "1980-03-21         NaN\n",
      "1980-03-24         NaN\n",
      "1980-03-25         NaN\n",
      "1980-03-26         NaN\n",
      "1980-03-27         NaN\n",
      "1980-03-28         NaN\n",
      "1980-03-31         NaN\n",
      "1980-04-01         NaN\n",
      "1980-04-02         NaN\n",
      "1980-04-03         NaN\n",
      "1980-04-07         NaN\n",
      "1980-04-08         NaN\n",
      "1980-04-09         NaN\n",
      "1980-04-10         NaN\n",
      "1980-04-11         NaN\n",
      "1980-04-14         NaN\n",
      "1980-04-15         NaN\n",
      "1980-04-16         NaN\n",
      "1980-04-17         NaN\n",
      "1980-04-18         NaN\n",
      "1980-04-21         NaN\n",
      "1980-04-22         NaN\n",
      "1980-04-23         NaN\n",
      "1980-04-24         NaN\n",
      "1980-04-25         NaN\n",
      "1980-04-28         NaN\n",
      "                ...   \n",
      "2017-03-30   -0.004415\n",
      "2017-03-31   -0.003880\n",
      "2017-04-03   -0.001892\n",
      "2017-04-04    0.002565\n",
      "2017-04-05    0.000667\n",
      "2017-04-06   -0.006335\n",
      "2017-04-07   -0.001902\n",
      "2017-04-10    0.002914\n",
      "2017-04-11    0.003464\n",
      "2017-04-12    0.005679\n",
      "2017-04-13   -0.003100\n",
      "2017-04-17    0.003999\n",
      "2017-04-18    0.004536\n",
      "2017-04-19   -0.005660\n",
      "2017-04-20   -0.003013\n",
      "2017-04-21   -0.007948\n",
      "2017-04-24    0.010494\n",
      "2017-04-25    0.005025\n",
      "2017-04-26   -0.025111\n",
      "2017-04-27   -0.000570\n",
      "2017-04-28   -0.004105\n",
      "2017-05-01   -0.002748\n",
      "2017-05-02   -0.009990\n",
      "2017-05-03    0.002436\n",
      "2017-05-04    0.000231\n",
      "2017-05-05    0.000578\n",
      "2017-05-08    0.000578\n",
      "2017-05-09   -0.001733\n",
      "2017-05-10    0.001042\n",
      "2017-05-11   -0.003700\n",
      "Name: simple_return, dtype: float64\n"
     ]
    }
   ],
   "source": [
    "BRK['simple_return'] = (PG['Adj Close'] / PG['Adj Close'].shift(1)) - 1\n",
    "print(BRK['simple_return'])"
   ]
  },
  {
   "cell_type": "code",
   "execution_count": null,
   "metadata": {
    "collapsed": true
   },
   "outputs": [],
   "source": []
  }
 ],
 "metadata": {
  "kernelspec": {
   "display_name": "python-for-finance",
   "language": "python",
   "name": "python-for-finance"
  },
  "language_info": {
   "codemirror_mode": {
    "name": "ipython",
    "version": 3
   },
   "file_extension": ".py",
   "mimetype": "text/x-python",
   "name": "python",
   "nbconvert_exporter": "python",
   "pygments_lexer": "ipython3",
   "version": "3.6.0"
  }
 },
 "nbformat": 4,
 "nbformat_minor": 2
}
