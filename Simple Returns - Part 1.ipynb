{
 "cells": [
  {
   "cell_type": "code",
   "execution_count": 1,
   "metadata": {
    "collapsed": false
   },
   "outputs": [],
   "source": [
    "import numpy as np\n",
    "import pandas as pd\n",
    "import pandas_datareader.data as wb\n",
    "import matplotlib.pyplot as plt"
   ]
  },
  {
   "cell_type": "code",
   "execution_count": 29,
   "metadata": {
    "collapsed": false
   },
   "outputs": [],
   "source": [
    "BRK = wb.DataReader('BRK-A', data_source='yahoo', start='1995-1-1')"
   ]
  },
  {
   "cell_type": "code",
   "execution_count": 30,
   "metadata": {
    "collapsed": false
   },
   "outputs": [
    {
     "data": {
      "text/html": [
       "<div>\n",
       "<table border=\"1\" class=\"dataframe\">\n",
       "  <thead>\n",
       "    <tr style=\"text-align: right;\">\n",
       "      <th></th>\n",
       "      <th>Open</th>\n",
       "      <th>High</th>\n",
       "      <th>Low</th>\n",
       "      <th>Close</th>\n",
       "      <th>Volume</th>\n",
       "      <th>Adj Close</th>\n",
       "    </tr>\n",
       "    <tr>\n",
       "      <th>Date</th>\n",
       "      <th></th>\n",
       "      <th></th>\n",
       "      <th></th>\n",
       "      <th></th>\n",
       "      <th></th>\n",
       "      <th></th>\n",
       "    </tr>\n",
       "  </thead>\n",
       "  <tbody>\n",
       "    <tr>\n",
       "      <th>1995-01-03</th>\n",
       "      <td>20500.0</td>\n",
       "      <td>20550.0</td>\n",
       "      <td>20250.0</td>\n",
       "      <td>20400.0</td>\n",
       "      <td>27000</td>\n",
       "      <td>20400.0</td>\n",
       "    </tr>\n",
       "    <tr>\n",
       "      <th>1995-01-04</th>\n",
       "      <td>20400.0</td>\n",
       "      <td>20550.0</td>\n",
       "      <td>20350.0</td>\n",
       "      <td>20550.0</td>\n",
       "      <td>13000</td>\n",
       "      <td>20550.0</td>\n",
       "    </tr>\n",
       "    <tr>\n",
       "      <th>1995-01-05</th>\n",
       "      <td>20500.0</td>\n",
       "      <td>20500.0</td>\n",
       "      <td>20500.0</td>\n",
       "      <td>20500.0</td>\n",
       "      <td>14000</td>\n",
       "      <td>20500.0</td>\n",
       "    </tr>\n",
       "    <tr>\n",
       "      <th>1995-01-06</th>\n",
       "      <td>20550.0</td>\n",
       "      <td>20600.0</td>\n",
       "      <td>20550.0</td>\n",
       "      <td>20600.0</td>\n",
       "      <td>4000</td>\n",
       "      <td>20600.0</td>\n",
       "    </tr>\n",
       "    <tr>\n",
       "      <th>1995-01-09</th>\n",
       "      <td>20700.0</td>\n",
       "      <td>21200.0</td>\n",
       "      <td>20700.0</td>\n",
       "      <td>21200.0</td>\n",
       "      <td>21000</td>\n",
       "      <td>21200.0</td>\n",
       "    </tr>\n",
       "  </tbody>\n",
       "</table>\n",
       "</div>"
      ],
      "text/plain": [
       "               Open     High      Low    Close  Volume  Adj Close\n",
       "Date                                                             \n",
       "1995-01-03  20500.0  20550.0  20250.0  20400.0   27000    20400.0\n",
       "1995-01-04  20400.0  20550.0  20350.0  20550.0   13000    20550.0\n",
       "1995-01-05  20500.0  20500.0  20500.0  20500.0   14000    20500.0\n",
       "1995-01-06  20550.0  20600.0  20550.0  20600.0    4000    20600.0\n",
       "1995-01-09  20700.0  21200.0  20700.0  21200.0   21000    21200.0"
      ]
     },
     "execution_count": 30,
     "metadata": {},
     "output_type": "execute_result"
    }
   ],
   "source": [
    "BRK.head()"
   ]
  },
  {
   "cell_type": "code",
   "execution_count": 31,
   "metadata": {
    "collapsed": false
   },
   "outputs": [
    {
     "data": {
      "text/html": [
       "<div>\n",
       "<table border=\"1\" class=\"dataframe\">\n",
       "  <thead>\n",
       "    <tr style=\"text-align: right;\">\n",
       "      <th></th>\n",
       "      <th>Open</th>\n",
       "      <th>High</th>\n",
       "      <th>Low</th>\n",
       "      <th>Close</th>\n",
       "      <th>Volume</th>\n",
       "      <th>Adj Close</th>\n",
       "    </tr>\n",
       "    <tr>\n",
       "      <th>Date</th>\n",
       "      <th></th>\n",
       "      <th></th>\n",
       "      <th></th>\n",
       "      <th></th>\n",
       "      <th></th>\n",
       "      <th></th>\n",
       "    </tr>\n",
       "  </thead>\n",
       "  <tbody>\n",
       "    <tr>\n",
       "      <th>2017-05-05</th>\n",
       "      <td>250530.0</td>\n",
       "      <td>250530.0</td>\n",
       "      <td>249100.0</td>\n",
       "      <td>250000.0</td>\n",
       "      <td>400</td>\n",
       "      <td>250000.0</td>\n",
       "    </tr>\n",
       "    <tr>\n",
       "      <th>2017-05-08</th>\n",
       "      <td>250000.0</td>\n",
       "      <td>250000.0</td>\n",
       "      <td>246401.0</td>\n",
       "      <td>247160.0</td>\n",
       "      <td>300</td>\n",
       "      <td>247160.0</td>\n",
       "    </tr>\n",
       "    <tr>\n",
       "      <th>2017-05-09</th>\n",
       "      <td>247750.0</td>\n",
       "      <td>247940.0</td>\n",
       "      <td>245000.0</td>\n",
       "      <td>246000.0</td>\n",
       "      <td>400</td>\n",
       "      <td>246000.0</td>\n",
       "    </tr>\n",
       "    <tr>\n",
       "      <th>2017-05-10</th>\n",
       "      <td>245800.0</td>\n",
       "      <td>245850.0</td>\n",
       "      <td>245100.0</td>\n",
       "      <td>245850.0</td>\n",
       "      <td>400</td>\n",
       "      <td>245850.0</td>\n",
       "    </tr>\n",
       "    <tr>\n",
       "      <th>2017-05-11</th>\n",
       "      <td>245770.0</td>\n",
       "      <td>245770.0</td>\n",
       "      <td>243770.0</td>\n",
       "      <td>245240.0</td>\n",
       "      <td>200</td>\n",
       "      <td>245240.0</td>\n",
       "    </tr>\n",
       "  </tbody>\n",
       "</table>\n",
       "</div>"
      ],
      "text/plain": [
       "                Open      High       Low     Close  Volume  Adj Close\n",
       "Date                                                                 \n",
       "2017-05-05  250530.0  250530.0  249100.0  250000.0     400   250000.0\n",
       "2017-05-08  250000.0  250000.0  246401.0  247160.0     300   247160.0\n",
       "2017-05-09  247750.0  247940.0  245000.0  246000.0     400   246000.0\n",
       "2017-05-10  245800.0  245850.0  245100.0  245850.0     400   245850.0\n",
       "2017-05-11  245770.0  245770.0  243770.0  245240.0     200   245240.0"
      ]
     },
     "execution_count": 31,
     "metadata": {},
     "output_type": "execute_result"
    }
   ],
   "source": [
    "BRK.tail()"
   ]
  },
  {
   "cell_type": "markdown",
   "metadata": {},
   "source": [
    "# Simple Rate of Return"
   ]
  },
  {
   "cell_type": "markdown",
   "metadata": {
    "collapsed": true
   },
   "source": [
    "$$\n",
    "\\frac{P_1 - P_0}{P_0} = \\frac{P_1}{P_0} - 1\n",
    "$$"
   ]
  },
  {
   "cell_type": "markdown",
   "metadata": {},
   "source": [
    "*Adj Close* is \"Adjusted close price\", adjusted by dividends and other events at the close of the market at that date."
   ]
  },
  {
   "cell_type": "code",
   "execution_count": 32,
   "metadata": {
    "collapsed": false
   },
   "outputs": [
    {
     "name": "stdout",
     "output_type": "stream",
     "text": [
      "Date\n",
      "1995-01-03         NaN\n",
      "1995-01-04   -0.008016\n",
      "1995-01-05   -0.014141\n",
      "1995-01-06    0.002049\n",
      "1995-01-09   -0.004090\n",
      "1995-01-10    0.012320\n",
      "1995-01-11   -0.002028\n",
      "1995-01-12    0.010163\n",
      "1995-01-13    0.011736\n",
      "1995-01-16    0.008000\n",
      "1995-01-17    0.003968\n",
      "1995-01-18   -0.021739\n",
      "1995-01-19   -0.004040\n",
      "1995-01-20   -0.004057\n",
      "1995-01-23    0.010183\n",
      "1995-01-24   -0.002016\n",
      "1995-01-25    0.014141\n",
      "1995-01-26    0.003984\n",
      "1995-01-27    0.027778\n",
      "1995-01-30    0.015444\n",
      "1995-01-31   -0.009506\n",
      "1995-02-01   -0.019194\n",
      "1995-02-02    0.007828\n",
      "1995-02-03    0.009709\n",
      "1995-02-06    0.023077\n",
      "1995-02-07   -0.001880\n",
      "1995-02-08   -0.011299\n",
      "1995-02-09   -0.001905\n",
      "1995-02-10   -0.001908\n",
      "1995-02-13    0.007648\n",
      "                ...   \n",
      "2017-03-30   -0.004415\n",
      "2017-03-31   -0.003880\n",
      "2017-04-03   -0.001892\n",
      "2017-04-04    0.002565\n",
      "2017-04-05    0.000667\n",
      "2017-04-06   -0.006335\n",
      "2017-04-07   -0.001902\n",
      "2017-04-10    0.002914\n",
      "2017-04-11    0.003464\n",
      "2017-04-12    0.005679\n",
      "2017-04-13   -0.003100\n",
      "2017-04-17    0.003999\n",
      "2017-04-18    0.004536\n",
      "2017-04-19   -0.005660\n",
      "2017-04-20   -0.003013\n",
      "2017-04-21   -0.007948\n",
      "2017-04-24    0.010494\n",
      "2017-04-25    0.005025\n",
      "2017-04-26   -0.025111\n",
      "2017-04-27   -0.000570\n",
      "2017-04-28   -0.004105\n",
      "2017-05-01   -0.002748\n",
      "2017-05-02   -0.009990\n",
      "2017-05-03    0.002436\n",
      "2017-05-04    0.000231\n",
      "2017-05-05    0.000578\n",
      "2017-05-08    0.000578\n",
      "2017-05-09   -0.001733\n",
      "2017-05-10    0.001042\n",
      "2017-05-11   -0.003700\n",
      "Name: simple_return, dtype: float64\n"
     ]
    }
   ],
   "source": [
    "BRK['simple_return'] = (PG['Adj Close'] / PG['Adj Close'].shift(1)) - 1\n",
    "print(BRK['simple_return'])"
   ]
  },
  {
   "cell_type": "code",
   "execution_count": 33,
   "metadata": {
    "collapsed": false
   },
   "outputs": [
    {
     "data": {
      "image/png": "[encoded data removed]",
      "text/plain": [
       "<matplotlib.figure.Figure at 0x7ff78e873160>"
      ]
     },
     "metadata": {},
     "output_type": "display_data"
    }
   ],
   "source": [
    "BRK['simple_return'].plot(figsize=(8,5))\n",
    "plt.show()"
   ]
  },
  {
   "cell_type": "code",
   "execution_count": 34,
   "metadata": {
    "collapsed": false
   },
   "outputs": [
    {
     "data": {
      "text/plain": [
       "0.00050295706047445352"
      ]
     },
     "execution_count": 34,
     "metadata": {},
     "output_type": "execute_result"
    }
   ],
   "source": [
    "avg_returns_d = BRK['simple_return'].mean()\n",
    "avg_returns_d"
   ]
  },
  {
   "cell_type": "code",
   "execution_count": 38,
   "metadata": {
    "collapsed": false
   },
   "outputs": [
    {
     "name": "stdout",
     "output_type": "stream",
     "text": [
      "12.574 %\n"
     ]
    }
   ],
   "source": [
    "avg_returns_a = avg_returns_d * 250 # multiply by the average number of business days per year\n",
    "print(str(round(avg_returns_a, 5) * 100) + ' %')"
   ]
  },
  {
   "cell_type": "code",
   "execution_count": null,
   "metadata": {
    "collapsed": true
   },
   "outputs": [],
   "source": []
  }
 ],
 "metadata": {
  "kernelspec": {
   "display_name": "python-for-finance",
   "language": "python",
   "name": "python-for-finance"
  },
  "language_info": {
   "codemirror_mode": {
    "name": "ipython",
    "version": 3
   },
   "file_extension": ".py",
   "mimetype": "text/x-python",
   "name": "python",
   "nbconvert_exporter": "python",
   "pygments_lexer": "ipython3",
   "version": "3.6.0"
  }
 },
 "nbformat": 4,
 "nbformat_minor": 2
}
